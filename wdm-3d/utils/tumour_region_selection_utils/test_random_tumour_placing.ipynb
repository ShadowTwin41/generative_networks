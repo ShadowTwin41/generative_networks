{
 "cells": [
  {
   "cell_type": "code",
   "execution_count": 5,
   "metadata": {},
   "outputs": [],
   "source": [
    "import nibabel as nib\n",
    "import numpy as np\n",
    "import torch as th\n",
    "from monai.transforms import Compose, LoadImage, CropForeground, EnsureChannelFirst, ResizeWithPadOrCrop, ScaleIntensityRange\n",
    "def get_tensor(file_path, norm):\n",
    "    # Step 1: Load the image and metadata using nibabel\n",
    "    transforms = [\n",
    "        LoadImage(image_only=True),\n",
    "        EnsureChannelFirst()\n",
    "        ]\n",
    "    if norm:\n",
    "        transforms.append(\n",
    "        ScaleIntensityRange(a_min=-200, a_max=200, b_min=-1, b_max=1, clip=False)\n",
    "        )\n",
    "\n",
    "    apply_transforms = Compose(transforms)\n",
    "    np_tensor = apply_transforms(file_path)[0].numpy()\n",
    "    return np_tensor\n",
    "\n",
    "def get_segmentation(file_path):\n",
    "    transforms = Compose([\n",
    "        LoadImage(image_only=True),\n",
    "        EnsureChannelFirst(),\n",
    "        CropForeground(select_fn=lambda x: x > 0, margin=0),\n",
    "        ResizeWithPadOrCrop(spatial_size=(128,128,128))\n",
    "    ])\n",
    "    segmentation = transforms(file_path)[0].numpy()\n",
    "    return segmentation\n",
    "\n",
    "import nibabel as nib\n",
    "\n",
    "def get_affine_and_header(file_path):\n",
    "  \"\"\"\n",
    "  Extracts the affine transformation matrix and header information from a NIfTI file.\n",
    "\n",
    "  Args:\n",
    "    filename (str): The path to the NIfTI file.\n",
    "\n",
    "  Returns:\n",
    "    tuple: A tuple containing the affine matrix and header information.\n",
    "  \"\"\"\n",
    "\n",
    "  img = nib.load(file_path)\n",
    "  affine = img.affine\n",
    "  header = img.header\n",
    "\n",
    "  return affine, header"
   ]
  },
  {
   "cell_type": "code",
   "execution_count": 7,
   "metadata": {},
   "outputs": [
    {
     "name": "stdout",
     "output_type": "stream",
     "text": [
      "well\n"
     ]
    },
    {
     "name": "stderr",
     "output_type": "stream",
     "text": [
      "/home/andreferreira/anaconda3/envs/totalseg/lib/python3.11/site-packages/monai/utils/deprecate_utils.py:321: FutureWarning: monai.transforms.croppad.array CropForeground.__init__:allow_smaller: Current default value of argument `allow_smaller=True` has been deprecated since version 1.2. It will be changed to `allow_smaller=False` in version 1.5.\n",
      "  warn_deprecated(argname, msg, warning_category)\n"
     ]
    }
   ],
   "source": [
    "healthy_ct_scan_full_res = get_tensor(\n",
    "                    file_path=\"/home/andreferreira/Desktop/AI_work/Aachen/TotalSeg/head-neck-ct_fake/anderson_0a908279226c5229e7fe85b8894b62d5_tumour_Contrast.nii.gz\",\n",
    "                    norm=True\n",
    "                    )\n",
    "region_to_place_tumour_mask = get_tensor(\n",
    "    file_path=\"/home/andreferreira/Desktop/AI_work/Aachen/TotalSeg/totalseg_output/head-neck-ct_fake/post_processed/anderson_0a908279226c5229e7fe85b8894b62d5_tumour_Contrast.nii.gz\",\n",
    "    norm=False\n",
    "    )\n",
    "segmentation = get_segmentation(\n",
    "    file_path=\"/home/andreferreira/Desktop/AI_work/Aachen/TotalSeg/anderson_0a696b5b3901ce97c24828e4962c7267.nii.gz\"\n",
    "    )\n",
    "\n",
    "affine, header = get_affine_and_header(file_path=\"/home/andreferreira/Desktop/AI_work/Aachen/TotalSeg/head-neck-ct_fake/anderson_0a908279226c5229e7fe85b8894b62d5_tumour_Contrast.nii.gz\")\n",
    "print(\"well\")"
   ]
  },
  {
   "cell_type": "code",
   "execution_count": 8,
   "metadata": {},
   "outputs": [
    {
     "name": "stdout",
     "output_type": "stream",
     "text": [
      "New center: [[ 86 160 147]]\n"
     ]
    }
   ],
   "source": [
    "import numpy as np\n",
    "import matplotlib.pyplot as plt\n",
    "import ipywidgets as widgets\n",
    "from IPython.display import display\n",
    "import nibabel as nib\n",
    "import numpy as np\n",
    "\n",
    "# Select a random voxel to be the center of the tumour\n",
    "voxel_indices = np.argwhere(region_to_place_tumour_mask == 2)\n",
    "random_voxel_indices = voxel_indices[np.random.choice(len(voxel_indices), size=1, replace=False)]\n",
    "print(f\"New center: {random_voxel_indices}\")\n",
    "random_x, random_y, random_z = random_voxel_indices[0][0], random_voxel_indices[0][1], random_voxel_indices[0][2]\n",
    "\n",
    "# Crop the full resolution scan and mask\n",
    "ct_scan_crop = healthy_ct_scan_full_res[ random_x-64:random_x+64,\n",
    "                        random_y-64:random_y+64,\n",
    "                        random_z-64:random_z+64]\n",
    "\n",
    "region_to_place_tumour_mask_crop = region_to_place_tumour_mask[ random_x-64:random_x+64,\n",
    "                        random_y-64:random_y+64,\n",
    "                        random_z-64:random_z+64]\n",
    "\n",
    "# Ensure the segmentation remains within the anatomical boundaries defined by the region_to_place_tumour_mask_crop\n",
    "corrected_seg = segmentation.copy()\n",
    "corrected_seg[region_to_place_tumour_mask_crop == 1] = 0\n",
    "\n",
    "\n",
    "img = nib.Nifti1Image(ct_scan_crop, affine=np.eye(4))\n",
    "nib.save(img, '/home/andreferreira/Desktop/AI_work/Aachen/TotalSeg/trash/ct_scan_crop.nii.gz')\n",
    "img = nib.Nifti1Image(region_to_place_tumour_mask_crop, affine=affine, header=header)\n",
    "nib.save(img, '/home/andreferreira/Desktop/AI_work/Aachen/TotalSeg/trash/region_to_place_tumour_mask_crop.nii.gz')\n",
    "img = nib.Nifti1Image(segmentation,affine=affine, header=header)\n",
    "nib.save(img, '/home/andreferreira/Desktop/AI_work/Aachen/TotalSeg/trash/segmentation.nii.gz')\n",
    "img = nib.Nifti1Image(corrected_seg, affine=affine, header=header)\n",
    "nib.save(img, '/home/andreferreira/Desktop/AI_work/Aachen/TotalSeg/trash/corrected_seg.nii.gz')\n",
    "\n"
   ]
  },
  {
   "cell_type": "code",
   "execution_count": null,
   "metadata": {},
   "outputs": [],
   "source": []
  }
 ],
 "metadata": {
  "kernelspec": {
   "display_name": "wdm",
   "language": "python",
   "name": "python3"
  },
  "language_info": {
   "codemirror_mode": {
    "name": "ipython",
    "version": 3
   },
   "file_extension": ".py",
   "mimetype": "text/x-python",
   "name": "python",
   "nbconvert_exporter": "python",
   "pygments_lexer": "ipython3",
   "version": "3.10.13"
  }
 },
 "nbformat": 4,
 "nbformat_minor": 2
}
